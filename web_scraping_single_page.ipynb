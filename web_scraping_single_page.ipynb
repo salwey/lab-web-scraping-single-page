{
 "cells": [
  {
   "cell_type": "markdown",
   "id": "4826d19f-f09c-4cbd-a0dc-7fac2a3e1b39",
   "metadata": {},
   "source": [
    "# Web scaping (single page)"
   ]
  },
  {
   "cell_type": "code",
   "execution_count": 1,
   "id": "87249c49-28d2-40d8-9cb1-10c616280c60",
   "metadata": {},
   "outputs": [],
   "source": [
    "from bs4 import BeautifulSoup\n",
    "import requests\n",
    "import pandas as pd"
   ]
  },
  {
   "cell_type": "code",
   "execution_count": 2,
   "id": "8985b2f6-fe51-46ad-b966-e598bc3109d2",
   "metadata": {},
   "outputs": [
    {
     "data": {
      "text/plain": [
       "200"
      ]
     },
     "execution_count": 2,
     "metadata": {},
     "output_type": "execute_result"
    }
   ],
   "source": [
    "url = \"https://www.billboard.com/charts/hot-100/\"\n",
    "response = requests.get(url)\n",
    "response.status_code # 200 status code means OK!"
   ]
  },
  {
   "cell_type": "code",
   "execution_count": 3,
   "id": "61370624-e6e3-4039-b8b8-1ed580243834",
   "metadata": {},
   "outputs": [],
   "source": [
    "#post-1479786 > div.pmc-paywall > div > div > div > div.chart-results-list.\\/\\/.lrv-u-padding-t-150.lrv-u-padding-t-050\\@mobile-max > div:nth-child(2) > ul > li.lrv-u-width-100p > ul > li.o-chart-results-list__item.\\/\\/.lrv-u-flex-grow-1.lrv-u-flex.lrv-u-flex-direction-column.lrv-u-justify-content-center.lrv-u-border-b-1.u-border-b-0\\@mobile-max.lrv-u-border-color-grey-light.lrv-u-padding-l-1\\@mobile-max"
   ]
  },
  {
   "cell_type": "code",
   "execution_count": 4,
   "id": "616e6b41-65a0-46e2-be26-2fb6c30ad1c9",
   "metadata": {},
   "outputs": [],
   "source": [
    "soup = BeautifulSoup(response.content, \"html.parser\")"
   ]
  },
  {
   "cell_type": "code",
   "execution_count": 5,
   "id": "42c58fdb-c60e-4630-8c91-1d58a249d9db",
   "metadata": {},
   "outputs": [
    {
     "data": {
      "text/plain": [
       "[<li class=\"o-chart-results-list__item // lrv-u-flex-grow-1 lrv-u-flex lrv-u-flex-direction-column lrv-u-justify-content-center lrv-u-border-b-1 u-border-b-0@mobile-max lrv-u-border-color-grey-light lrv-u-padding-l-1@mobile-max\">\n",
       " <h3 class=\"c-title a-no-trucate a-font-primary-bold-s u-letter-spacing-0021 u-font-size-23@tablet lrv-u-font-size-16 u-line-height-125 u-line-height-normal@mobile-max a-truncate-ellipsis u-max-width-245 u-max-width-230@tablet-only u-letter-spacing-0028@tablet\" id=\"title-of-a-story\">\n",
       " Easy On Me\n",
       " </h3>\n",
       " <span class=\"c-label a-no-trucate a-font-primary-s lrv-u-font-size-14@mobile-max u-line-height-normal@mobile-max u-letter-spacing-0021 lrv-u-display-block a-truncate-ellipsis-2line u-max-width-330 u-max-width-230@tablet-only u-font-size-20@tablet\">\n",
       " Adele\n",
       " </span>\n",
       " </li>]"
      ]
     },
     "execution_count": 5,
     "metadata": {},
     "output_type": "execute_result"
    }
   ],
   "source": [
    "# searching...\n",
    "soup.select(\"#post-1479786 > div.pmc-paywall > div > div > div > div.chart-results-list.\\/\\/.lrv-u-padding-t-150.lrv-u-padding-t-050\\@mobile-max > div:nth-child(2) > ul > li.lrv-u-width-100p > ul > li.o-chart-results-list__item.\\/\\/.lrv-u-flex-grow-1.lrv-u-flex.lrv-u-flex-direction-column.lrv-u-justify-content-center.lrv-u-border-b-1.u-border-b-0\\@mobile-max.lrv-u-border-color-grey-light.lrv-u-padding-l-1\\@mobile-max\")"
   ]
  },
  {
   "cell_type": "code",
   "execution_count": 6,
   "id": "926f90d4-eb5a-4d1a-83b4-3354d305bea1",
   "metadata": {},
   "outputs": [
    {
     "data": {
      "text/plain": [
       "[<span class=\"c-label a-no-trucate a-font-primary-s lrv-u-font-size-14@mobile-max u-line-height-normal@mobile-max u-letter-spacing-0021 lrv-u-display-block a-truncate-ellipsis-2line u-max-width-330 u-max-width-230@tablet-only u-font-size-20@tablet\">\n",
       " Adele\n",
       " </span>]"
      ]
     },
     "execution_count": 6,
     "metadata": {},
     "output_type": "execute_result"
    }
   ],
   "source": [
    "# searching...\n",
    "soup.select(\"#post-1479786 > div.pmc-paywall > div > div > div > div.chart-results-list.\\/\\/.lrv-u-padding-t-150.lrv-u-padding-t-050\\@mobile-max > div:nth-child(2) > ul > li.lrv-u-width-100p > ul > li.o-chart-results-list__item.\\/\\/.lrv-u-flex-grow-1.lrv-u-flex.lrv-u-flex-direction-column.lrv-u-justify-content-center.lrv-u-border-b-1.u-border-b-0\\@mobile-max.lrv-u-border-color-grey-light.lrv-u-padding-l-1\\@mobile-max span\")"
   ]
  },
  {
   "cell_type": "code",
   "execution_count": 7,
   "id": "bda0c822-7ada-4d0f-a752-ec09dcb788a7",
   "metadata": {},
   "outputs": [],
   "source": [
    "# get our song titles\n",
    "song_titles = []\n",
    "for crouton in soup.select(\"li.lrv-u-width-100p h3\"):\n",
    "    song_titles.append(crouton.get_text())"
   ]
  },
  {
   "cell_type": "code",
   "execution_count": 8,
   "id": "1429b13a-bcb6-4b4a-a849-bc583d3e4412",
   "metadata": {},
   "outputs": [],
   "source": [
    "# get artist and other data\n",
    "span = []\n",
    "for crouton in soup.select(\"li.lrv-u-width-100p span\"):\n",
    "    span.append(crouton.get_text())"
   ]
  },
  {
   "cell_type": "code",
   "execution_count": 9,
   "id": "380d3c9d-43a7-4cc7-9e53-97407647c35a",
   "metadata": {},
   "outputs": [],
   "source": [
    "# filter the artist and other data\n",
    "artist_x = []\n",
    "last_week_pos_x = []\n",
    "peak_pos_x = []\n",
    "weeks_on_chart_x = []\n",
    "\n",
    "i = 0\n",
    "for i in range(len(span)):\n",
    "    if i % 7 == 0:\n",
    "        artist_x.append(span[i])\n",
    "    elif i % 7 == 1:\n",
    "        last_week_pos_x.append(span[i])\n",
    "    elif i % 7 == 2:\n",
    "        peak_pos_x.append(span[i])\n",
    "    elif i % 7 == 3:\n",
    "        weeks_on_chart_x.append(span[i])"
   ]
  },
  {
   "cell_type": "code",
   "execution_count": 10,
   "id": "36b5306e-5159-4512-826f-da40e83173a8",
   "metadata": {},
   "outputs": [],
   "source": [
    "# clean the /n from our fields\n",
    "songs = []\n",
    "artist = []\n",
    "last_week_pos = []\n",
    "peak_pos = []\n",
    "weeks_on_chart = []\n",
    "\n",
    "i = 0\n",
    "for i in range(len(song_titles)):\n",
    "    songs.append(song_titles[i].replace('\\n',''))\n",
    "    artist.append(artist_x[i].replace('\\n',''))\n",
    "    last_week_pos.append(last_week_pos_x[i].replace('\\n',''))\n",
    "    peak_pos.append(peak_pos_x[i].replace('\\n',''))\n",
    "    weeks_on_chart.append(weeks_on_chart_x[i].replace('\\n',''))"
   ]
  },
  {
   "cell_type": "code",
   "execution_count": 11,
   "id": "ac09a6f1-84d8-4701-8145-a57ea185dd63",
   "metadata": {},
   "outputs": [],
   "source": [
    "# create dataframe\n",
    "top100 = pd.DataFrame({'song_title':songs,\n",
    "                      'artist':artist,\n",
    "                      'last_week_pos':last_week_pos,\n",
    "                      'peak_pos':peak_pos,\n",
    "                      'weeks_on_chart':weeks_on_chart})"
   ]
  },
  {
   "cell_type": "code",
   "execution_count": 12,
   "id": "ab307276-0d61-4fa1-b7ba-2ae3f66f64fa",
   "metadata": {},
   "outputs": [
    {
     "data": {
      "text/html": [
       "<div>\n",
       "<style scoped>\n",
       "    .dataframe tbody tr th:only-of-type {\n",
       "        vertical-align: middle;\n",
       "    }\n",
       "\n",
       "    .dataframe tbody tr th {\n",
       "        vertical-align: top;\n",
       "    }\n",
       "\n",
       "    .dataframe thead th {\n",
       "        text-align: right;\n",
       "    }\n",
       "</style>\n",
       "<table border=\"1\" class=\"dataframe\">\n",
       "  <thead>\n",
       "    <tr style=\"text-align: right;\">\n",
       "      <th></th>\n",
       "      <th>song_title</th>\n",
       "      <th>artist</th>\n",
       "      <th>last_week_pos</th>\n",
       "      <th>peak_pos</th>\n",
       "      <th>weeks_on_chart</th>\n",
       "    </tr>\n",
       "  </thead>\n",
       "  <tbody>\n",
       "    <tr>\n",
       "      <th>0</th>\n",
       "      <td>Easy On Me</td>\n",
       "      <td>Adele</td>\n",
       "      <td>1</td>\n",
       "      <td>1</td>\n",
       "      <td>5</td>\n",
       "    </tr>\n",
       "    <tr>\n",
       "      <th>1</th>\n",
       "      <td>Stay</td>\n",
       "      <td>The Kid LAROI &amp; Justin Bieber</td>\n",
       "      <td>2</td>\n",
       "      <td>1</td>\n",
       "      <td>18</td>\n",
       "    </tr>\n",
       "    <tr>\n",
       "      <th>2</th>\n",
       "      <td>Industry Baby</td>\n",
       "      <td>Lil Nas X &amp; Jack Harlow</td>\n",
       "      <td>3</td>\n",
       "      <td>1</td>\n",
       "      <td>16</td>\n",
       "    </tr>\n",
       "    <tr>\n",
       "      <th>3</th>\n",
       "      <td>Bad Habits</td>\n",
       "      <td>Ed Sheeran</td>\n",
       "      <td>4</td>\n",
       "      <td>2</td>\n",
       "      <td>20</td>\n",
       "    </tr>\n",
       "    <tr>\n",
       "      <th>4</th>\n",
       "      <td>Shivers</td>\n",
       "      <td>Ed Sheeran</td>\n",
       "      <td>6</td>\n",
       "      <td>5</td>\n",
       "      <td>9</td>\n",
       "    </tr>\n",
       "    <tr>\n",
       "      <th>5</th>\n",
       "      <td>One Right Now</td>\n",
       "      <td>Post Malone &amp; The Weeknd</td>\n",
       "      <td>-</td>\n",
       "      <td>6</td>\n",
       "      <td>1</td>\n",
       "    </tr>\n",
       "    <tr>\n",
       "      <th>6</th>\n",
       "      <td>Fancy Like</td>\n",
       "      <td>Walker Hayes</td>\n",
       "      <td>5</td>\n",
       "      <td>3</td>\n",
       "      <td>21</td>\n",
       "    </tr>\n",
       "    <tr>\n",
       "      <th>7</th>\n",
       "      <td>Smokin Out The Window</td>\n",
       "      <td>Silk Sonic (Bruno Mars &amp; Anderson .Paak)</td>\n",
       "      <td>-</td>\n",
       "      <td>8</td>\n",
       "      <td>1</td>\n",
       "    </tr>\n",
       "    <tr>\n",
       "      <th>8</th>\n",
       "      <td>Need To Know</td>\n",
       "      <td>Doja Cat</td>\n",
       "      <td>8</td>\n",
       "      <td>8</td>\n",
       "      <td>22</td>\n",
       "    </tr>\n",
       "    <tr>\n",
       "      <th>9</th>\n",
       "      <td>Heat Waves</td>\n",
       "      <td>Glass Animals</td>\n",
       "      <td>10</td>\n",
       "      <td>10</td>\n",
       "      <td>43</td>\n",
       "    </tr>\n",
       "    <tr>\n",
       "      <th>10</th>\n",
       "      <td>Escape Plan</td>\n",
       "      <td>Travis Scott</td>\n",
       "      <td>-</td>\n",
       "      <td>11</td>\n",
       "      <td>1</td>\n",
       "    </tr>\n",
       "    <tr>\n",
       "      <th>11</th>\n",
       "      <td>Way 2 Sexy</td>\n",
       "      <td>Drake Featuring Future &amp; Young Thug</td>\n",
       "      <td>7</td>\n",
       "      <td>1</td>\n",
       "      <td>10</td>\n",
       "    </tr>\n",
       "    <tr>\n",
       "      <th>12</th>\n",
       "      <td>No Love</td>\n",
       "      <td>Summer Walker &amp; SZA</td>\n",
       "      <td>-</td>\n",
       "      <td>13</td>\n",
       "      <td>1</td>\n",
       "    </tr>\n",
       "    <tr>\n",
       "      <th>13</th>\n",
       "      <td>Cold Heart (PNAU Remix)</td>\n",
       "      <td>Elton John &amp; Dua Lipa</td>\n",
       "      <td>14</td>\n",
       "      <td>14</td>\n",
       "      <td>10</td>\n",
       "    </tr>\n",
       "    <tr>\n",
       "      <th>14</th>\n",
       "      <td>Good 4 U</td>\n",
       "      <td>Olivia Rodrigo</td>\n",
       "      <td>9</td>\n",
       "      <td>1</td>\n",
       "      <td>26</td>\n",
       "    </tr>\n",
       "    <tr>\n",
       "      <th>15</th>\n",
       "      <td>Essence</td>\n",
       "      <td>Wizkid Featuring Justin Bieber &amp; Tems</td>\n",
       "      <td>12</td>\n",
       "      <td>9</td>\n",
       "      <td>19</td>\n",
       "    </tr>\n",
       "    <tr>\n",
       "      <th>16</th>\n",
       "      <td>Beggin'</td>\n",
       "      <td>Maneskin</td>\n",
       "      <td>13</td>\n",
       "      <td>13</td>\n",
       "      <td>20</td>\n",
       "    </tr>\n",
       "    <tr>\n",
       "      <th>17</th>\n",
       "      <td>Levitating</td>\n",
       "      <td>Dua Lipa</td>\n",
       "      <td>11</td>\n",
       "      <td>2</td>\n",
       "      <td>58</td>\n",
       "    </tr>\n",
       "    <tr>\n",
       "      <th>18</th>\n",
       "      <td>You Right</td>\n",
       "      <td>Doja Cat &amp; The Weeknd</td>\n",
       "      <td>16</td>\n",
       "      <td>11</td>\n",
       "      <td>20</td>\n",
       "    </tr>\n",
       "    <tr>\n",
       "      <th>19</th>\n",
       "      <td>Kiss Me More</td>\n",
       "      <td>Doja Cat Featuring SZA</td>\n",
       "      <td>15</td>\n",
       "      <td>3</td>\n",
       "      <td>31</td>\n",
       "    </tr>\n",
       "  </tbody>\n",
       "</table>\n",
       "</div>"
      ],
      "text/plain": [
       "                 song_title                                    artist  \\\n",
       "0                Easy On Me                                     Adele   \n",
       "1                      Stay             The Kid LAROI & Justin Bieber   \n",
       "2             Industry Baby                   Lil Nas X & Jack Harlow   \n",
       "3                Bad Habits                                Ed Sheeran   \n",
       "4                   Shivers                                Ed Sheeran   \n",
       "5             One Right Now                  Post Malone & The Weeknd   \n",
       "6                Fancy Like                              Walker Hayes   \n",
       "7     Smokin Out The Window  Silk Sonic (Bruno Mars & Anderson .Paak)   \n",
       "8              Need To Know                                  Doja Cat   \n",
       "9                Heat Waves                             Glass Animals   \n",
       "10              Escape Plan                              Travis Scott   \n",
       "11               Way 2 Sexy       Drake Featuring Future & Young Thug   \n",
       "12                  No Love                       Summer Walker & SZA   \n",
       "13  Cold Heart (PNAU Remix)                     Elton John & Dua Lipa   \n",
       "14                 Good 4 U                            Olivia Rodrigo   \n",
       "15                  Essence     Wizkid Featuring Justin Bieber & Tems   \n",
       "16                  Beggin'                                  Maneskin   \n",
       "17               Levitating                                  Dua Lipa   \n",
       "18                You Right                     Doja Cat & The Weeknd   \n",
       "19             Kiss Me More                    Doja Cat Featuring SZA   \n",
       "\n",
       "   last_week_pos peak_pos weeks_on_chart  \n",
       "0              1        1              5  \n",
       "1              2        1             18  \n",
       "2              3        1             16  \n",
       "3              4        2             20  \n",
       "4              6        5              9  \n",
       "5              -        6              1  \n",
       "6              5        3             21  \n",
       "7              -        8              1  \n",
       "8              8        8             22  \n",
       "9             10       10             43  \n",
       "10             -       11              1  \n",
       "11             7        1             10  \n",
       "12             -       13              1  \n",
       "13            14       14             10  \n",
       "14             9        1             26  \n",
       "15            12        9             19  \n",
       "16            13       13             20  \n",
       "17            11        2             58  \n",
       "18            16       11             20  \n",
       "19            15        3             31  "
      ]
     },
     "execution_count": 12,
     "metadata": {},
     "output_type": "execute_result"
    }
   ],
   "source": [
    "# show off dataframe\n",
    "top100.head(20)"
   ]
  }
 ],
 "metadata": {
  "kernelspec": {
   "display_name": "Python 3 (ipykernel)",
   "language": "python",
   "name": "python3"
  },
  "language_info": {
   "codemirror_mode": {
    "name": "ipython",
    "version": 3
   },
   "file_extension": ".py",
   "mimetype": "text/x-python",
   "name": "python",
   "nbconvert_exporter": "python",
   "pygments_lexer": "ipython3",
   "version": "3.9.6"
  }
 },
 "nbformat": 4,
 "nbformat_minor": 5
}
